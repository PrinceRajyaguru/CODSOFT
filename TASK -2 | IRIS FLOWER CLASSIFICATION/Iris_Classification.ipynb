{
 "cells": [
  {
   "cell_type": "code",
   "execution_count": null,
   "id": "5159d2b8",
   "metadata": {},
   "outputs": [],
   "source": [
    "# Importing the necessary libraries for data analysis and modeling\n",
    "import numpy as np\n",
    "import pandas as pd\n",
    "import matplotlib.pyplot as plt\n",
    "import seaborn as sns"
   ]
  },
  {
   "cell_type": "code",
   "execution_count": null,
   "id": "30c41e83",
   "metadata": {},
   "outputs": [],
   "source": [
    "# Loading the dataset 'iris.csv'\n",
    "df=pd.read_csv('iris.csv')"
   ]
  },
  {
   "cell_type": "code",
   "execution_count": null,
   "id": "3a8bfc54",
   "metadata": {},
   "outputs": [],
   "source": [
    "# Displaying basic information about the dataset\n",
    "df.head()\n"
   ]
  },
  {
   "cell_type": "code",
   "execution_count": null,
   "id": "c56008e8",
   "metadata": {},
   "outputs": [],
   "source": [
    "# Exploring the dataset's statistic\n",
    "df.describe()"
   ]
  },
  {
   "cell_type": "code",
   "execution_count": null,
   "id": "077305ef",
   "metadata": {},
   "outputs": [],
   "source": [
    "# Displaying basic information about the dataset\n",
    "df['Species'].value_counts()"
   ]
  },
  {
   "cell_type": "code",
   "execution_count": null,
   "id": "11678eba",
   "metadata": {},
   "outputs": [],
   "source": [
    "sns.countplot(data=df,x='Species')"
   ]
  },
  {
   "cell_type": "code",
   "execution_count": null,
   "id": "da343468",
   "metadata": {},
   "outputs": [],
   "source": [
    "sns.scatterplot(data=df,x='PetalLengthCm',y='PetalWidthCm')"
   ]
  },
  {
   "cell_type": "code",
   "execution_count": null,
   "id": "07e1e605",
   "metadata": {},
   "outputs": [],
   "source": [
    "sns.scatterplot(data=df,x='PetalLengthCm',y='PetalWidthCm',hue='Species')"
   ]
  },
  {
   "cell_type": "code",
   "execution_count": null,
   "id": "0fc3e334",
   "metadata": {},
   "outputs": [],
   "source": [
    "sns.pairplot(data=df,hue='Species')"
   ]
  },
  {
   "cell_type": "code",
   "execution_count": null,
   "id": "66492a4b",
   "metadata": {},
   "outputs": [],
   "source": [
    "sns.heatmap(df.corr(),annot=True)"
   ]
  },
  {
   "cell_type": "code",
   "execution_count": null,
   "id": "60ded777",
   "metadata": {},
   "outputs": [],
   "source": [
    "X=df.drop('Species',axis=1)\n",
    "X"
   ]
  },
  {
   "cell_type": "code",
   "execution_count": null,
   "id": "a9c82829",
   "metadata": {},
   "outputs": [],
   "source": [
    "y=df['Species']\n",
    "y"
   ]
  },
  {
   "cell_type": "code",
   "execution_count": null,
   "id": "53cfd344",
   "metadata": {},
   "outputs": [],
   "source": [
    "from sklearn.model_selection import train_test_split\n",
    "from sklearn.preprocessing import StandardScaler\n",
    "X_train,X_test,y_train,y_test=train_test_split(X,y,test_size=0.1,random_state=101)\n",
    "scaler=StandardScaler()"
   ]
  },
  {
   "cell_type": "code",
   "execution_count": null,
   "id": "7b06c73f",
   "metadata": {},
   "outputs": [],
   "source": [
    "X_train=scaler.fit_transform(X_train)\n",
    "X_train"
   ]
  },
  {
   "cell_type": "code",
   "execution_count": null,
   "id": "8585dded",
   "metadata": {},
   "outputs": [],
   "source": [
    "X_test=scaler.transform(X_test)\n",
    "X_test"
   ]
  },
  {
   "cell_type": "code",
   "execution_count": null,
   "id": "e21743b3",
   "metadata": {},
   "outputs": [],
   "source": [
    "from sklearn.linear_model import LogisticRegression\n",
    "from sklearn.model_selection import GridSearchCV\n",
    "log_model=LogisticRegression(solver='saga',multi_class='ovr',max_iter=5000)"
   ]
  },
  {
   "cell_type": "code",
   "execution_count": null,
   "id": "60f9921d",
   "metadata": {},
   "outputs": [],
   "source": [
    "penalty=['l1','l2','elasticnet']\n",
    "l1_ratio=np.linspace(0,1,20)\n",
    "C=np.logspace(0,10,20)\n",
    "\n",
    "param_grid={'penalty':penalty,\n",
    "           'l1_ratio':l1_ratio,\n",
    "           'C':C}"
   ]
  },
  {
   "cell_type": "code",
   "execution_count": null,
   "id": "341a9aaf",
   "metadata": {},
   "outputs": [],
   "source": [
    "grid_model=GridSearchCV(log_model,param_grid=param_grid)\n",
    "grid_model.fit(X_train,y_train)"
   ]
  },
  {
   "cell_type": "code",
   "execution_count": null,
   "id": "2b228135",
   "metadata": {},
   "outputs": [],
   "source": [
    "from sklearn.metrics import accuracy_score,confusion_matrix,classification_report,confusion_matrix\n",
    "def plot_confusion_matrix(y_true, y_pred, classes):\n",
    "    cm = confusion_matrix(y_true, y_pred)\n",
    "    plt.figure(figsize=(8, 6))\n",
    "    sns.heatmap(cm, annot=True, fmt=\"d\", cmap=\"Blues\", xticklabels=classes, yticklabels=classes)\n",
    "    plt.xlabel(\"Predicted labels\")\n",
    "    plt.ylabel(\"True labels\")\n",
    "    plt.title(\"Confusion Matrix\")\n",
    "    plt.show()"
   ]
  },
  {
   "cell_type": "code",
   "execution_count": null,
   "id": "7171e8ed",
   "metadata": {},
   "outputs": [],
   "source": [
    "grid_model.best_params_"
   ]
  },
  {
   "cell_type": "code",
   "execution_count": null,
   "id": "7d7b4104",
   "metadata": {},
   "outputs": [],
   "source": [
    "y_pred=grid_model.predict(X_test)\n",
    "y_pred"
   ]
  },
  {
   "cell_type": "code",
   "execution_count": null,
   "id": "6e144c31",
   "metadata": {},
   "outputs": [],
   "source": [
    "accuracy_score(y_test,y_pred)"
   ]
  },
  {
   "cell_type": "code",
   "execution_count": null,
   "id": "05aad3bc",
   "metadata": {},
   "outputs": [],
   "source": [
    "confusion_matrix(y_test,y_pred)"
   ]
  },
  {
   "cell_type": "code",
   "execution_count": null,
   "id": "c6aa083c",
   "metadata": {},
   "outputs": [],
   "source": [
    "plot_confusion_matrix(y_test, y_pred, classes=df['Species'].unique())"
   ]
  },
  {
   "cell_type": "code",
   "execution_count": null,
   "id": "758186c5",
   "metadata": {},
   "outputs": [],
   "source": [
    "print(classification_report(y_test,y_pred))"
   ]
  }
 ],
 "metadata": {
  "kernelspec": {
   "display_name": "Python 3 (ipykernel)",
   "language": "python",
   "name": "python3"
  },
  "language_info": {
   "codemirror_mode": {
    "name": "ipython",
    "version": 3
   },
   "file_extension": ".py",
   "mimetype": "text/x-python",
   "name": "python",
   "nbconvert_exporter": "python",
   "pygments_lexer": "ipython3",
   "version": "3.10.9"
  }
 },
 "nbformat": 4,
 "nbformat_minor": 5
}
