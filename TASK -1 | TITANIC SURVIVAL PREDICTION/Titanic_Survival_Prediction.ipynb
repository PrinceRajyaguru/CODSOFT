{
 "cells": [
  {
   "cell_type": "code",
   "execution_count": null,
   "id": "011be96b",
   "metadata": {},
   "outputs": [],
   "source": [
    "# Import necessary libraries\n",
    "import numpy as np\n",
    "import pandas as pd\n",
    "import matplotlib.pyplot as plt\n",
    "import seaborn as sns\n",
    "from sklearn.model_selection import train_test_split\n",
    "from sklearn.linear_model import LogisticRegression\n",
    "from sklearn.metrics import accuracy_score\n",
    "from sklearn.impute import SimpleImputer\n",
    "from sklearn.preprocessing import StandardScaler"
   ]
  },
  {
   "cell_type": "code",
   "execution_count": null,
   "id": "789252ec",
   "metadata": {},
   "outputs": [],
   "source": [
    "# Load the dataset\n",
    "df = pd.read_csv('tested.csv')"
   ]
  },
  {
   "cell_type": "code",
   "execution_count": null,
   "id": "70b5b073",
   "metadata": {},
   "outputs": [],
   "source": [
    "# Drop 'Cabin' column\n",
    "df = df.drop('Cabin', axis=1)"
   ]
  },
  {
   "cell_type": "code",
   "execution_count": null,
   "id": "815e547a",
   "metadata": {},
   "outputs": [],
   "source": [
    "# Replace missing values in 'Age' and 'Embarked'\n",
    "df['Age'].fillna(df['Age'].mean(), inplace=True)\n",
    "df['Embarked'].fillna(df['Embarked'].mode()[0], inplace=True)"
   ]
  },
  {
   "cell_type": "code",
   "execution_count": null,
   "id": "197c2bcd",
   "metadata": {},
   "outputs": [],
   "source": [
    "# Replace 'Sex' and 'Embarked' columns with numerical values\n",
    "df.replace({'Sex': {'male': 0, 'female': 1}, 'Embarked': {'S': 0, 'C': 1, 'Q': 2}}, inplace=True)"
   ]
  },
  {
   "cell_type": "code",
   "execution_count": null,
   "id": "c78d9136",
   "metadata": {},
   "outputs": [],
   "source": [
    "# Separate features and target\n",
    "X = df.drop(columns=['PassengerId', 'Name', 'Ticket', 'Survived'], axis=1)\n",
    "y = df['Survived']"
   ]
  },
  {
   "cell_type": "code",
   "execution_count": null,
   "id": "bdeda602",
   "metadata": {},
   "outputs": [],
   "source": [
    "# Split data into training and testing sets\n",
    "X_train, X_test, y_train, y_test = train_test_split(X, y, test_size=0.2, random_state=101)"
   ]
  },
  {
   "cell_type": "code",
   "execution_count": null,
   "id": "4a95f99f",
   "metadata": {},
   "outputs": [],
   "source": [
    "# Create an imputer instance\n",
    "imputer = SimpleImputer(strategy='mean')"
   ]
  },
  {
   "cell_type": "code",
   "execution_count": null,
   "id": "992c02d4",
   "metadata": {},
   "outputs": [],
   "source": [
    "# Fit and transform the imputer on your feature data\n",
    "X_train_imputed = imputer.fit_transform(X_train)\n",
    "X_test_imputed = imputer.transform(X_test)"
   ]
  },
  {
   "cell_type": "code",
   "execution_count": null,
   "id": "664696c4",
   "metadata": {},
   "outputs": [],
   "source": [
    "# Create a scaler instance\n",
    "scaler = StandardScaler()"
   ]
  },
  {
   "cell_type": "code",
   "execution_count": null,
   "id": "d332f294",
   "metadata": {},
   "outputs": [],
   "source": [
    "# Fit and transform the scaler on your feature data\n",
    "X_train_scaled = scaler.fit_transform(X_train_imputed)\n",
    "X_test_scaled = scaler.transform(X_test_imputed)"
   ]
  },
  {
   "cell_type": "code",
   "execution_count": null,
   "id": "aaa7fe0c",
   "metadata": {},
   "outputs": [],
   "source": [
    "# Train the model using the scaled data\n",
    "model = LogisticRegression(max_iter=1000)\n",
    "model.fit(X_train_scaled, y_train)"
   ]
  },
  {
   "cell_type": "code",
   "execution_count": null,
   "id": "6a736f38",
   "metadata": {},
   "outputs": [],
   "source": [
    "# Calculate accuracy for training data\n",
    "X_train_prediction = model.predict(X_train_scaled)\n",
    "train_accuracy = accuracy_score(y_train, X_train_prediction)"
   ]
  },
  {
   "cell_type": "code",
   "execution_count": null,
   "id": "9a0aaa10",
   "metadata": {},
   "outputs": [],
   "source": [
    "# Calculate accuracy for testing data\n",
    "X_test_prediction = model.predict(X_test_scaled)\n",
    "test_accuracy = accuracy_score(y_test, X_test_prediction)"
   ]
  },
  {
   "cell_type": "code",
   "execution_count": null,
   "id": "2a916e74",
   "metadata": {},
   "outputs": [],
   "source": [
    "print(\"Training Accuracy:\", train_accuracy)\n",
    "print(\"Testing Accuracy:\", test_accuracy)"
   ]
  },
  {
   "cell_type": "code",
   "execution_count": null,
   "id": "7acaca33",
   "metadata": {},
   "outputs": [],
   "source": [
    "# Example input data for prediction\n",
    "input_data = (1, 1, 35.0, 1, 0, 53.1000, 0) \n",
    "input_data_as_numpy_array = np.asarray(input_data)\n",
    "reshape = input_data_as_numpy_array.reshape(1, -1)\n",
    "prediction = model.predict(reshape)\n",
    "\n",
    "if prediction == 0:\n",
    "    print(\"Didn't Survive\")\n",
    "else:\n",
    "    print('Survived')"
   ]
  }
 ],
 "metadata": {
  "kernelspec": {
   "display_name": "Python 3 (ipykernel)",
   "language": "python",
   "name": "python3"
  },
  "language_info": {
   "codemirror_mode": {
    "name": "ipython",
    "version": 3
   },
   "file_extension": ".py",
   "mimetype": "text/x-python",
   "name": "python",
   "nbconvert_exporter": "python",
   "pygments_lexer": "ipython3",
   "version": "3.10.9"
  }
 },
 "nbformat": 4,
 "nbformat_minor": 5
}
